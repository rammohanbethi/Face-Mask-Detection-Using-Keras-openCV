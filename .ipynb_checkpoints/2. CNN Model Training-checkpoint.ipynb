{
 "cells": [
  {
   "cell_type": "markdown",
   "metadata": {},
   "source": [
    "# Convolutional Neural Network Architecture\n",
    "\n",
    "![](cnn.png)"
   ]
  },
  {
   "cell_type": "code",
   "execution_count": 1,
   "metadata": {},
   "outputs": [],
   "source": [
    "#loading the save numpy arrays in the previous code\n",
    "import numpy as np\n",
    "\n",
    "data=np.load('data.npy')\n",
    "target=np.load('target.npy')"
   ]
  },
  {
   "cell_type": "code",
   "execution_count": 2,
   "metadata": {},
   "outputs": [
    {
     "name": "stderr",
     "output_type": "stream",
     "text": [
      "Using TensorFlow backend.\n"
     ]
    }
   ],
   "source": [
    "from keras.models import Sequential\n",
    "from keras.layers import Dense,Activation,Flatten,Dropout\n",
    "from keras.layers import Conv2D,MaxPooling2D"
   ]
  },
  {
   "cell_type": "code",
   "execution_count": 3,
   "metadata": {},
   "outputs": [
    {
     "name": "stdout",
     "output_type": "stream",
     "text": [
      "WARNING:tensorflow:From C:\\Users\\DELL\\Anaconda3\\lib\\site-packages\\keras\\backend\\tensorflow_backend.py:74: The name tf.get_default_graph is deprecated. Please use tf.compat.v1.get_default_graph instead.\n",
      "\n"
     ]
    }
   ],
   "source": [
    "model=Sequential()"
   ]
  },
  {
   "cell_type": "code",
   "execution_count": 4,
   "metadata": {},
   "outputs": [
    {
     "name": "stdout",
     "output_type": "stream",
     "text": [
      "WARNING:tensorflow:From C:\\Users\\DELL\\Anaconda3\\lib\\site-packages\\keras\\backend\\tensorflow_backend.py:517: The name tf.placeholder is deprecated. Please use tf.compat.v1.placeholder instead.\n",
      "\n",
      "WARNING:tensorflow:From C:\\Users\\DELL\\Anaconda3\\lib\\site-packages\\keras\\backend\\tensorflow_backend.py:4138: The name tf.random_uniform is deprecated. Please use tf.random.uniform instead.\n",
      "\n",
      "WARNING:tensorflow:From C:\\Users\\DELL\\Anaconda3\\lib\\site-packages\\keras\\backend\\tensorflow_backend.py:3976: The name tf.nn.max_pool is deprecated. Please use tf.nn.max_pool2d instead.\n",
      "\n"
     ]
    }
   ],
   "source": [
    "#The first CNN layer followed by Relu and MaxPooling layers\n",
    "model.add(Conv2D(200,(3,3),input_shape=data.shape[1:]))\n",
    "model.add(Activation('relu'))\n",
    "model.add(MaxPooling2D(2,2))"
   ]
  },
  {
   "cell_type": "code",
   "execution_count": 5,
   "metadata": {},
   "outputs": [],
   "source": [
    "#The second convolution layer followed by Relu and MaxPooling layers\n",
    "model.add(Conv2D(100,(3,3)))\n",
    "model.add(Activation('relu'))\n",
    "model.add(MaxPooling2D(2,2))"
   ]
  },
  {
   "cell_type": "code",
   "execution_count": 6,
   "metadata": {},
   "outputs": [
    {
     "name": "stdout",
     "output_type": "stream",
     "text": [
      "WARNING:tensorflow:From C:\\Users\\DELL\\Anaconda3\\lib\\site-packages\\keras\\backend\\tensorflow_backend.py:133: The name tf.placeholder_with_default is deprecated. Please use tf.compat.v1.placeholder_with_default instead.\n",
      "\n",
      "WARNING:tensorflow:From C:\\Users\\DELL\\Anaconda3\\lib\\site-packages\\keras\\backend\\tensorflow_backend.py:3445: calling dropout (from tensorflow.python.ops.nn_ops) with keep_prob is deprecated and will be removed in a future version.\n",
      "Instructions for updating:\n",
      "Please use `rate` instead of `keep_prob`. Rate should be set to `rate = 1 - keep_prob`.\n"
     ]
    }
   ],
   "source": [
    "#Flatten layer to stack the output convolutions from second convolution layer\n",
    "model.add(Flatten())\n",
    "model.add(Dropout(0.5))"
   ]
  },
  {
   "cell_type": "code",
   "execution_count": 7,
   "metadata": {},
   "outputs": [],
   "source": [
    "#Dense layer of 64 neurons\n",
    "model.add(Dense(50,activation='relu'))\n",
    "\n",
    "#The Final layer with two outputs for two categories\n",
    "model.add(Dense(2,activation='softmax'))"
   ]
  },
  {
   "cell_type": "code",
   "execution_count": 8,
   "metadata": {},
   "outputs": [
    {
     "name": "stdout",
     "output_type": "stream",
     "text": [
      "WARNING:tensorflow:From C:\\Users\\DELL\\Anaconda3\\lib\\site-packages\\keras\\optimizers.py:790: The name tf.train.Optimizer is deprecated. Please use tf.compat.v1.train.Optimizer instead.\n",
      "\n",
      "WARNING:tensorflow:From C:\\Users\\DELL\\Anaconda3\\lib\\site-packages\\keras\\backend\\tensorflow_backend.py:3295: The name tf.log is deprecated. Please use tf.math.log instead.\n",
      "\n"
     ]
    }
   ],
   "source": [
    "model.compile(loss='categorical_crossentropy',optimizer='adam',metrics=['accuracy'])"
   ]
  },
  {
   "cell_type": "code",
   "execution_count": 9,
   "metadata": {},
   "outputs": [],
   "source": [
    "from sklearn.model_selection import train_test_split\n",
    "train_data,test_data,train_target,test_target=train_test_split(data,target,test_size=0.1)"
   ]
  },
  {
   "cell_type": "code",
   "execution_count": 10,
   "metadata": {},
   "outputs": [],
   "source": [
    "from keras.callbacks import ModelCheckpoint\n",
    "checkpoint = ModelCheckpoint('model-{epoch:02d}.model',monitor='val_loss',verbose=0,save_best_only=True,mode='auto')"
   ]
  },
  {
   "cell_type": "code",
   "execution_count": 11,
   "metadata": {},
   "outputs": [
    {
     "name": "stdout",
     "output_type": "stream",
     "text": [
      "WARNING:tensorflow:From C:\\Users\\DELL\\Anaconda3\\lib\\site-packages\\tensorflow\\python\\ops\\math_grad.py:1250: add_dispatch_support.<locals>.wrapper (from tensorflow.python.ops.array_ops) is deprecated and will be removed in a future version.\n",
      "Instructions for updating:\n",
      "Use tf.where in 2.0, which has the same broadcast rule as np.where\n",
      "Train on 300 samples, validate on 76 samples\n",
      "Epoch 1/20\n",
      "300/300 [==============================] - 29s 97ms/step - loss: 0.7245 - acc: 0.5100 - val_loss: 0.6927 - val_acc: 0.5526\n",
      "Epoch 2/20\n",
      "300/300 [==============================] - 29s 97ms/step - loss: 0.6912 - acc: 0.5833 - val_loss: 0.6873 - val_acc: 0.5789\n",
      "Epoch 3/20\n",
      "300/300 [==============================] - 30s 101ms/step - loss: 0.6952 - acc: 0.4767 - val_loss: 0.6863 - val_acc: 0.6053\n",
      "Epoch 4/20\n",
      "300/300 [==============================] - 29s 96ms/step - loss: 0.6820 - acc: 0.6033 - val_loss: 0.6768 - val_acc: 0.5921\n",
      "Epoch 5/20\n",
      "300/300 [==============================] - 25s 84ms/step - loss: 0.6623 - acc: 0.6500 - val_loss: 0.6698 - val_acc: 0.5526\n",
      "Epoch 6/20\n",
      "300/300 [==============================] - 28s 92ms/step - loss: 0.6142 - acc: 0.6500 - val_loss: 0.6920 - val_acc: 0.5658\n",
      "Epoch 7/20\n",
      "300/300 [==============================] - 26s 85ms/step - loss: 0.5473 - acc: 0.7333 - val_loss: 0.6845 - val_acc: 0.6316\n",
      "Epoch 8/20\n",
      "300/300 [==============================] - 27s 89ms/step - loss: 0.4547 - acc: 0.8167 - val_loss: 0.9000 - val_acc: 0.5921\n",
      "Epoch 9/20\n",
      "300/300 [==============================] - 26s 87ms/step - loss: 0.3640 - acc: 0.8633 - val_loss: 0.8239 - val_acc: 0.5526\n",
      "Epoch 10/20\n",
      "300/300 [==============================] - 25s 84ms/step - loss: 0.3286 - acc: 0.8633 - val_loss: 0.8932 - val_acc: 0.5395\n",
      "Epoch 11/20\n",
      "300/300 [==============================] - 28s 93ms/step - loss: 0.2386 - acc: 0.8967 - val_loss: 1.1246 - val_acc: 0.6053\n",
      "Epoch 12/20\n",
      "300/300 [==============================] - 25s 83ms/step - loss: 0.2117 - acc: 0.9167 - val_loss: 0.9943 - val_acc: 0.5789\n",
      "Epoch 13/20\n",
      "300/300 [==============================] - 29s 95ms/step - loss: 0.1680 - acc: 0.9467 - val_loss: 1.1866 - val_acc: 0.5789\n",
      "Epoch 14/20\n",
      "300/300 [==============================] - 29s 95ms/step - loss: 0.1628 - acc: 0.9433 - val_loss: 1.3152 - val_acc: 0.5789\n",
      "Epoch 15/20\n",
      "300/300 [==============================] - 32s 106ms/step - loss: 0.1415 - acc: 0.9433 - val_loss: 1.3694 - val_acc: 0.5658\n",
      "Epoch 16/20\n",
      "300/300 [==============================] - 28s 92ms/step - loss: 0.1271 - acc: 0.9733 - val_loss: 1.4180 - val_acc: 0.5921\n",
      "Epoch 17/20\n",
      "300/300 [==============================] - 29s 97ms/step - loss: 0.1248 - acc: 0.9600 - val_loss: 1.3997 - val_acc: 0.5658\n",
      "Epoch 18/20\n",
      "300/300 [==============================] - 28s 92ms/step - loss: 0.0873 - acc: 0.9667 - val_loss: 1.3873 - val_acc: 0.5789\n",
      "Epoch 19/20\n",
      "300/300 [==============================] - 29s 98ms/step - loss: 0.0738 - acc: 0.9800 - val_loss: 1.4507 - val_acc: 0.5658\n",
      "Epoch 20/20\n",
      "300/300 [==============================] - 27s 90ms/step - loss: 0.0557 - acc: 0.9800 - val_loss: 1.5872 - val_acc: 0.5526\n"
     ]
    }
   ],
   "source": [
    "history = model.fit(train_data,train_target,epochs=20,callbacks=[checkpoint], validation_split=0.2)"
   ]
  },
  {
   "cell_type": "code",
   "execution_count": 14,
   "metadata": {},
   "outputs": [
    {
     "data": {
      "image/png": "[encoded data removed]",
      "text/plain": [
       "<Figure size 432x288 with 1 Axes>"
      ]
     },
     "metadata": {
      "needs_background": "light"
     },
     "output_type": "display_data"
    }
   ],
   "source": [
    "from matplotlib import pyplot as plt\n",
    "\n",
    "plt.plot(history.history['loss'],'r',label='training loss')\n",
    "plt.plot(history.history['val_loss'],label='validation loss')\n",
    "plt.xlabel('# epochs')\n",
    "plt.ylabel('loss')\n",
    "plt.legend()\n",
    "plt.show()"
   ]
  },
  {
   "cell_type": "code",
   "execution_count": 15,
   "metadata": {},
   "outputs": [
    {
     "data": {
      "image/png": "[encoded data removed]",
      "text/plain": [
       "<Figure size 432x288 with 1 Axes>"
      ]
     },
     "metadata": {
      "needs_background": "light"
     },
     "output_type": "display_data"
    }
   ],
   "source": [
    "plt.plot(history.history['acc'],'r',label='training accuracy')\n",
    "plt.plot(history.history['val_acc'],label='validation accuracy')\n",
    "plt.xlabel('# epochs')\n",
    "plt.ylabel('loss')\n",
    "plt.legend()\n",
    "plt.show()"
   ]
  },
  {
   "cell_type": "code",
   "execution_count": 16,
   "metadata": {},
   "outputs": [],
   "source": [
    "model.save('main-mask.h5')"
   ]
  },
  {
   "cell_type": "code",
   "execution_count": null,
   "metadata": {},
   "outputs": [],
   "source": []
  }
 ],
 "metadata": {
  "kernelspec": {
   "display_name": "Python 3",
   "language": "python",
   "name": "python3"
  },
  "language_info": {
   "codemirror_mode": {
    "name": "ipython",
    "version": 3
   },
   "file_extension": ".py",
   "mimetype": "text/x-python",
   "name": "python",
   "nbconvert_exporter": "python",
   "pygments_lexer": "ipython3",
   "version": "3.7.3"
  }
 },
 "nbformat": 4,
 "nbformat_minor": 2
}
